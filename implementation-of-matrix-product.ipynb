{
 "cells": [
  {
   "cell_type": "markdown",
   "metadata": {},
   "source": [
    "<h1>[PROBLEM 1]</h1>"
   ]
  },
  {
   "cell_type": "markdown",
   "metadata": {},
   "source": [
    "<img src=\"1\" alt=\"Image Alt Text\">\n",
    "<h3>Here are the initial Matrixes, A and B\n",
    "First we have to check the condition for two matrixes be multiplied: the number of columns of the first\n",
    "matrix must be equal to the number of rows of the second matrix\n",
    "In this case, the condition is satisfied</h3>\n",
    "\n"
   ]
  },
  {
   "cell_type": "markdown",
   "metadata": {},
   "source": [
    "<img src=\"2\" alt=\"Image Alt Text\">\n",
    "<h3>Here I show what would be the structure of the product(C)</h3>"
   ]
  },
  {
   "cell_type": "markdown",
   "metadata": {},
   "source": [
    "<img src=\"3\" alt=\"Image Alt Text\">\n",
    "<img src=\"4\" alt=\"Image Alt Text\">\n",
    "<img src=\"5\" alt=\"Image Alt Text\">\n",
    "\n",
    "<h3>Here I calculate the value of each C matrix element.\n",
    "I do this by taking the corresponding row from matrix A  and the corresponding column from matrix B, and multiply the elements, and then sum them up.\n",
    "The first row of matrix A corresponds to the first column of matrix B\n",
    "So we take every element of the rows and columns and multiply it, after that, we take those products and sum.</h3>\n",
    "\n",
    "\n"
   ]
  },
  {
   "cell_type": "markdown",
   "metadata": {},
   "source": [
    "<img src=\"6\" alt=\"Image Alt Text\">"
   ]
  },
  {
   "cell_type": "markdown",
   "metadata": {},
   "source": [
    "<h3>This is the product. Matrix.</h3>\n"
   ]
  },
  {
   "cell_type": "markdown",
   "metadata": {},
   "source": [
    "<h1>[PROBLEM 2]</h1>"
   ]
  },
  {
   "cell_type": "code",
   "execution_count": 340,
   "metadata": {},
   "outputs": [],
   "source": [
    "import numpy as np"
   ]
  },
  {
   "cell_type": "code",
   "execution_count": 341,
   "metadata": {},
   "outputs": [],
   "source": [
    "a_ndarray = np.array([[-1, 2, 3], \n",
    "                      [4, -5, 6], \n",
    "                      [7, 8, -9]])\n",
    "\n",
    "b_ndarray = np.array([[0, 2, 1], \n",
    "                      [0, 2, -8], \n",
    "                      [2, 9, -1]])\n"
   ]
  },
  {
   "cell_type": "code",
   "execution_count": 342,
   "metadata": {},
   "outputs": [
    {
     "name": "stdout",
     "output_type": "stream",
     "text": [
      "[[  6  29 -20]\n",
      " [ 12  52  38]\n",
      " [-18 -51 -48]]\n"
     ]
    }
   ],
   "source": [
    "# using numpy.matmul\n",
    "c_ndarray = np.matmul(a_ndarray, b_ndarray)\n",
    "print(c_ndarray)\n"
   ]
  },
  {
   "cell_type": "code",
   "execution_count": 343,
   "metadata": {},
   "outputs": [
    {
     "name": "stdout",
     "output_type": "stream",
     "text": [
      "[[  6  29 -20]\n",
      " [ 12  52  38]\n",
      " [-18 -51 -48]]\n"
     ]
    }
   ],
   "source": [
    "# using numpy.matmul but with its shortcut \"@\"\n",
    "c_ndarray = a_ndarray @ b_ndarray\n",
    "print(c_ndarray)\n"
   ]
  },
  {
   "cell_type": "code",
   "execution_count": 344,
   "metadata": {},
   "outputs": [
    {
     "name": "stdout",
     "output_type": "stream",
     "text": [
      "[[  6  29 -20]\n",
      " [ 12  52  38]\n",
      " [-18 -51 -48]]\n"
     ]
    }
   ],
   "source": [
    "# using numpy.dot\n",
    "c_ndarray = np.dot(a_ndarray, b_ndarray)\n",
    "print(c_ndarray)"
   ]
  },
  {
   "cell_type": "markdown",
   "metadata": {},
   "source": [
    "<h1>[PROBLEM 3]</h1>"
   ]
  },
  {
   "cell_type": "code",
   "execution_count": 345,
   "metadata": {},
   "outputs": [],
   "source": [
    "from numpy import linalg as lg"
   ]
  },
  {
   "cell_type": "code",
   "execution_count": 346,
   "metadata": {},
   "outputs": [],
   "source": [
    "def row_column_product(row_elements, column_elements):\n",
    "    sum = 0\n",
    "    for i in range (len(row_elements)):\n",
    "        sum += row_elements[i] * column_elements[i]\n",
    "    \n",
    "    return sum\n",
    "\n"
   ]
  },
  {
   "cell_type": "code",
   "execution_count": 347,
   "metadata": {},
   "outputs": [
    {
     "name": "stdout",
     "output_type": "stream",
     "text": [
      "6\n"
     ]
    }
   ],
   "source": [
    "row = [-1, 2, 3]\n",
    "column = [0, 0, 2]\n",
    "p = row_column_product(row, column)\n",
    "print(p)"
   ]
  },
  {
   "cell_type": "markdown",
   "metadata": {},
   "source": [
    "<h1>[PROBLEM 4]</h1>"
   ]
  },
  {
   "cell_type": "code",
   "execution_count": 348,
   "metadata": {},
   "outputs": [
    {
     "name": "stdout",
     "output_type": "stream",
     "text": [
      "[[  6.  29. -20.]\n",
      " [ 12.  52.  38.]\n",
      " [-18. -51. -48.]]\n"
     ]
    }
   ],
   "source": [
    "def matrix_product(matrix_a, matrix_b):\n",
    "    # matrix_b = np.transpose(matrix_b)#to swap to columns for the rows, so computing will be easier\n",
    "    matrix_c = np.zeros((len(matrix_a), len(matrix_b[0])))\n",
    "    for i in range (0,  len(matrix_a)):\n",
    "        for j in range (0,  len(matrix_b[0])):\n",
    "            col = []\n",
    "            for k in matrix_b:\n",
    "                col.append(k[j])\n",
    "            \n",
    "            matrix_c[i][j] = row_column_product(matrix_a[i],col)\n",
    "    \n",
    "    return matrix_c\n",
    "\n",
    "c_ndarray = matrix_product(a_ndarray, b_ndarray)\n",
    "print(c_ndarray)\n"
   ]
  },
  {
   "cell_type": "markdown",
   "metadata": {},
   "source": [
    "<h1>[PROBLEM 5]</h1>"
   ]
  },
  {
   "cell_type": "code",
   "execution_count": 349,
   "metadata": {},
   "outputs": [
    {
     "name": "stdout",
     "output_type": "stream",
     "text": [
      "True\n"
     ]
    }
   ],
   "source": [
    "def are_multipliable(matrix_a, matrix_b):\n",
    "    if len(matrix_b[0])==len(matrix_a):\n",
    "        return True\n",
    "    else:\n",
    "        return f'''The number of rows in the first matrix does not correspond to the number of columns in the second matrix\n",
    "Expected {len(matrix_a)} columns for the second matrix, but got {len(matrix_b[0])} \n",
    "        '''\n",
    "    \n",
    "test1 = np.array([  [-1, 2, 3], \n",
    "                    [4, -5, 6], \n",
    "                    [7, 8, -9]])\n",
    "\n",
    "test2 = np.array([  [0, 2, 1], \n",
    "                    [0, 2, -8], \n",
    "                    [2, 9, -1]])\n",
    "b = are_multipliable(test1, test2)\n",
    "print(b)"
   ]
  },
  {
   "cell_type": "code",
   "execution_count": 350,
   "metadata": {},
   "outputs": [
    {
     "name": "stdout",
     "output_type": "stream",
     "text": [
      "The number of rows in the first matrix does not correspond to the number of columns in the second matrix\n",
      "Expected 3 columns for the second matrix. But got 2 \n",
      "        \n"
     ]
    }
   ],
   "source": [
    "test3 = np.array([  [-1, 2, 3], \n",
    "                    [4, -5, 6], \n",
    "                    [7, 8, -9]])\n",
    "\n",
    "test4 = np.array([  [0, 2], \n",
    "                    [0, 2], \n",
    "                    [2, 9]])\n",
    "b = are_multipliable(test3, test4)\n",
    "print(b)"
   ]
  },
  {
   "cell_type": "markdown",
   "metadata": {},
   "source": [
    "<h1>[PROBLEM 6]</h1>"
   ]
  },
  {
   "cell_type": "code",
   "execution_count": 351,
   "metadata": {},
   "outputs": [
    {
     "name": "stdout",
     "output_type": "stream",
     "text": [
      "[[  6.  29. -20.]\n",
      " [ 12.  52.  38.]\n",
      " [-18. -51. -48.]]\n"
     ]
    }
   ],
   "source": [
    "def matrix_product(matrix_a, matrix_b):\n",
    "    matrix_b = np.transpose(matrix_b)#to swap to columns for the rows, so computing will be easier\n",
    "    matrix_c = np.zeros((len(matrix_a), len(matrix_b)))\n",
    "    for i in range (0,  len(matrix_a)):\n",
    "        for j in range (0,  len(matrix_b)):\n",
    "            matrix_c[i][j] = row_column_product(matrix_a[i],matrix_b[j])\n",
    "    \n",
    "    return matrix_c\n",
    "\n",
    "c_ndarray = matrix_product(a_ndarray, b_ndarray)\n",
    "print(c_ndarray)\n"
   ]
  },
  {
   "cell_type": "code",
   "execution_count": null,
   "metadata": {},
   "outputs": [],
   "source": []
  }
 ],
 "metadata": {
  "kernelspec": {
   "display_name": "Python 3",
   "language": "python",
   "name": "python3"
  },
  "language_info": {
   "codemirror_mode": {
    "name": "ipython",
    "version": 3
   },
   "file_extension": ".py",
   "mimetype": "text/x-python",
   "name": "python",
   "nbconvert_exporter": "python",
   "pygments_lexer": "ipython3",
   "version": "3.10.12"
  }
 },
 "nbformat": 4,
 "nbformat_minor": 2
}
